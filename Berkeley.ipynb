{
 "cells": [
  {
   "cell_type": "markdown",
   "metadata": {},
   "source": [
    "# Anomalie globale de température (Berkeley 1850-2022)\n",
    "\n",
    "**Auteur : FERRY Frédéric (ENM/C3M) - septembre 2023**\n",
    "\n",
    "Données :\n",
    "- http://berkeleyearth.org/archive/data/\n",
    "- https://berkeley-earth-temperature.s3.us-west-1.amazonaws.com/Global/Land_and_Ocean_complete.txt"
   ]
  },
  {
   "cell_type": "code",
   "execution_count": null,
   "metadata": {},
   "outputs": [],
   "source": [
    "import os\n",
    "\n",
    "import numpy as np\n",
    "\n",
    "import matplotlib.pyplot as plt\n",
    "from matplotlib import animation\n",
    "from matplotlib import colors\n",
    "\n",
    "import pandas as pd\n",
    "from pandas import Series\n",
    "from pandas.plotting import register_matplotlib_converters\n",
    "register_matplotlib_converters()\n",
    "\n",
    "import IPython.display as IPdisplay"
   ]
  },
  {
   "cell_type": "raw",
   "metadata": {},
   "source": [
    "Ouverture des données mensuelles."
   ]
  },
  {
   "cell_type": "code",
   "execution_count": null,
   "metadata": {
    "scrolled": false
   },
   "outputs": [],
   "source": [
    "tg=np.loadtxt('./data/Land_and_Ocean_complete.txt', skiprows=2171, usecols=(2))\n",
    "dates = pd.date_range('1850-01', '2023-01', freq='M')\n",
    "print(dates)\n",
    "\n",
    "tg = Series(tg, index=dates)\n",
    "print(tg)\n",
    "\n",
    "months=['January','February','March','April','May','June','July',\n",
    "       'August','September','October','November','December']\n",
    "\n",
    "years=np.arange(1850,2023)\n",
    "print(years)"
   ]
  },
  {
   "cell_type": "raw",
   "metadata": {},
   "source": [
    "Graphe de l'évolution de l'anomalie globale mensuelle de température depuis 1850."
   ]
  },
  {
   "cell_type": "code",
   "execution_count": null,
   "metadata": {
    "scrolled": false
   },
   "outputs": [],
   "source": [
    "fig=plt.figure(figsize=(15, 10))\n",
    "fig.suptitle('Global monthly temperature anomalies relative to 1951-1980', fontsize=16)\n",
    "plt.title('Data : https://berkeley-earth-temperature.s3.us-west-1.amazonaws.com/Global/Land_and_Ocean_complete.txt' ,\n",
    "          fontsize=12, color='grey')\n",
    "plt.xlabel('Year')\n",
    "plt.ylabel('Temperature anomaly (°C)')\n",
    "plt.axhline(0, linewidth=1, color='k')\n",
    "ax = tg.plot(color='blue', linewidth=0.5, alpha=1)\n",
    "plt.show()\n",
    "figname='./figs/Berkeley_Tanom_monthly'\n",
    "fig.savefig(figname+'.png',bbox_inches='tight')"
   ]
  },
  {
   "cell_type": "raw",
   "metadata": {},
   "source": [
    "Autre visualisation des anomalies mensuelles. cf. http://www.columbia.edu/~mhs119/Temperature/T_moreFigs/."
   ]
  },
  {
   "cell_type": "code",
   "execution_count": null,
   "metadata": {
    "scrolled": false
   },
   "outputs": [],
   "source": [
    "print(len(years))\n",
    "print(tg.shape)\n",
    "tg2 = np.array(tg).reshape(len(years), 12)\n",
    "print(tg2.shape)\n",
    "\n",
    "bounds = [-0.8,-0.6,-0.4,-0.2,-0.05,0.05,0.2,0.4,0.6,0.8,1,1.2,1.4]\n",
    "color =[\"darkblue\",\"blue\",\"cyan\",\"lightgreen\",\"white\",\"yellow\",\"gold\", \"orange\", \n",
    "         \"red\", \"brown\", \"black\",\"pink\"]\n",
    "cmap = colors.ListedColormap(color)\n",
    "norm = colors.BoundaryNorm(bounds, cmap.N)\n",
    "\n",
    "fig=plt.figure(figsize=(30, 4))\n",
    "fig.suptitle('Global monthly temperature anomalies relative to 1951-1980', fontsize=24)\n",
    "ax = fig.add_subplot(111)\n",
    "im=ax.imshow(tg2.T, cmap=cmap, norm=norm)\n",
    "cb=plt.colorbar(im, orientation=\"horizontal\",shrink=0.75,ticks=bounds)\n",
    "cb.set_label('°C')\n",
    "mons=['Jan','Feb','Mar','Apr', 'May', 'Jun', 'Jul', 'Aug', 'Sep', 'Oct', 'Nov', 'Dec']\n",
    "ax.set_yticks(np.arange(0,12,3))\n",
    "ax.set_yticklabels(mons[::3]) #add month labels to the yaxis\n",
    "ax.set_xticks(np.arange(0,len(years),10))\n",
    "ax.set_xticklabels(years[::10]) #add year labels to the xaxis\n",
    "\n",
    "xcoords = np.arange(0,len(years),10)\n",
    "for xc in xcoords:\n",
    "    plt.axvline(x=xc,linewidth=1, linestyle='--', color='grey')\n",
    "\n",
    "plt.show()\n",
    "\n",
    "figname='./figs/Berkeley_Tanom_monthly2'\n",
    "fig.savefig(figname+'.png',bbox_inches='tight')"
   ]
  },
  {
   "cell_type": "raw",
   "metadata": {},
   "source": [
    "Choix d'un mois."
   ]
  },
  {
   "cell_type": "code",
   "execution_count": null,
   "metadata": {
    "scrolled": false
   },
   "outputs": [],
   "source": [
    "print(tg.shape)\n",
    "imonth=int(input(\"Entrer le numéro du mois souhaité (1-12) : \"))\n",
    "month_data=tg[imonth-1::12]\n",
    "print(month_data.shape)"
   ]
  },
  {
   "cell_type": "raw",
   "metadata": {},
   "source": [
    "Anomalie de température pour le mois choisi."
   ]
  },
  {
   "cell_type": "code",
   "execution_count": null,
   "metadata": {
    "scrolled": false
   },
   "outputs": [],
   "source": [
    "fig=plt.figure(figsize=(15, 10))\n",
    "fig.suptitle('Global '+months[imonth-1]+' temperature anomalies relative to 1951-1980', fontsize=16)\n",
    "plt.title('Data : https://berkeley-earth-temperature.s3.us-west-1.amazonaws.com/Global/Land_and_Ocean_complete.txt' ,\n",
    "          fontsize=12, color='grey')\n",
    "plt.xlabel('Year')\n",
    "plt.ylabel('Temperature anomaly (°C)')\n",
    "plt.axhline(0, color='k')\n",
    "plt.xlim(years[0],years[-1])\n",
    "colormat=np.where(month_data>0, 'red','blue')\n",
    "plt.bar(years,month_data, color=colormat)\n",
    "xcoords = np.arange(1850,2030,10)\n",
    "for xc in xcoords:\n",
    "    plt.axvline(x=xc,linewidth=1, linestyle='--', color='grey')\n",
    "plt.show()\n",
    "figname='./figs/Berkeley_Tanom_'+str(imonth)\n",
    "fig.savefig(figname+'.png',bbox_inches='tight')"
   ]
  },
  {
   "cell_type": "raw",
   "metadata": {},
   "source": [
    "Classement."
   ]
  },
  {
   "cell_type": "code",
   "execution_count": null,
   "metadata": {
    "scrolled": false
   },
   "outputs": [],
   "source": [
    "classement=np.array(np.argsort(month_data))[::-1]\n",
    "print('Classement '+months[imonth-1]+ ' du plus chaud au plus froid : ',years[classement])"
   ]
  },
  {
   "cell_type": "raw",
   "metadata": {},
   "source": [
    "Création des données en moyenne annuelle."
   ]
  },
  {
   "cell_type": "code",
   "execution_count": null,
   "metadata": {
    "scrolled": false
   },
   "outputs": [],
   "source": [
    "tg_annual=tg.resample('A').mean()\n",
    "print(tg_annual)"
   ]
  },
  {
   "cell_type": "raw",
   "metadata": {},
   "source": [
    "Graphe de l'évolution de l'anomalie globale annuelle de température depuis 1850."
   ]
  },
  {
   "cell_type": "code",
   "execution_count": null,
   "metadata": {
    "scrolled": false
   },
   "outputs": [],
   "source": [
    "fig=plt.figure(figsize=(15, 10))\n",
    "fig.suptitle('Global annual temperature anomalies relative to 1951-1980', fontsize=16)\n",
    "plt.title('Data : https://berkeley-earth-temperature.s3.us-west-1.amazonaws.com/Global/Land_and_Ocean_complete.txt',\n",
    "          fontsize=12, color='grey')\n",
    "plt.xlabel('Year')\n",
    "plt.ylabel('Temperature anomaly (°C)')\n",
    "plt.axhline(0, color='k', linewidth=1)\n",
    "plt.xlim(years[0],years[-1])\n",
    "colormat=np.where(tg_annual>0, 'red','blue')\n",
    "plt.bar(years, tg_annual, color=colormat)\n",
    "xcoords = np.arange(1850,2030,10)\n",
    "for xc in xcoords:\n",
    "    plt.axvline(x=xc,linewidth=1, linestyle='--', color='grey')\n",
    "plt.show()\n",
    "figname='./figs/Berkeley_Tanom_annual'\n",
    "fig.savefig(figname+'.png',bbox_inches='tight')"
   ]
  },
  {
   "cell_type": "raw",
   "metadata": {},
   "source": [
    "Animation de l'évolution de l'anomalie globale annuelle de température depuis 1850."
   ]
  },
  {
   "cell_type": "code",
   "execution_count": null,
   "metadata": {
    "scrolled": false
   },
   "outputs": [],
   "source": [
    "fig, ax = plt.subplots(1, 1, figsize = (15, 10))\n",
    "fig.suptitle('Global annual temperature anomalies from the corresponding 1951-1980 means', fontsize=16)\n",
    "\n",
    "def animate(i):\n",
    "    ax.cla() # clear the previous image\n",
    "    ax.plot(tg_annual[:i]) # plot the line\n",
    "    ax.set_ylim([-1, 1]) # fix the x axis\n",
    "    ax.set_title('Year : '+str(i), loc='center', fontsize=8)\n",
    "    plt.title('Data : https://berkeley-earth-temperature.s3.us-west-1.amazonaws.com/Global/Land_and_Ocean_complete.txt', fontsize=12, color='grey')\n",
    "    plt.xlabel('Year')\n",
    "    plt.ylabel('Temperature anomaly (°C)')\n",
    "    plt.axhline(0, color='k')\n",
    "    \n",
    "\n",
    "anim = animation.FuncAnimation(fig, animate, frames = len(tg_annual) + 1, interval = 1, blit = False, repeat=False)\n",
    "anim.save('./anim/Berkeley_Tanom_annual.gif', writer='imagemagick', fps=10)"
   ]
  },
  {
   "cell_type": "code",
   "execution_count": null,
   "metadata": {},
   "outputs": [],
   "source": [
    "IPdisplay.Image(url='./anim/Berkeley_Tanom_annual.gif')"
   ]
  },
  {
   "cell_type": "code",
   "execution_count": null,
   "metadata": {},
   "outputs": [],
   "source": []
  }
 ],
 "metadata": {
  "kernelspec": {
   "display_name": "Python 3",
   "language": "python",
   "name": "python3"
  },
  "language_info": {
   "codemirror_mode": {
    "name": "ipython",
    "version": 3
   },
   "file_extension": ".py",
   "mimetype": "text/x-python",
   "name": "python",
   "nbconvert_exporter": "python",
   "pygments_lexer": "ipython3",
   "version": "3.7.11"
  }
 },
 "nbformat": 4,
 "nbformat_minor": 1
}
