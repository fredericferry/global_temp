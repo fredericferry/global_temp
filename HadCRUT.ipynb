{
 "cells": [
  {
   "cell_type": "markdown",
   "metadata": {},
   "source": [
    "# Anomalie globale de température (HadCRUT 1850-2022)\n",
    "\n",
    "**Auteur : Frédéric FERRY (ENM) - septembre 2023**\n",
    "\n",
    "Données HadCRUT5 : https://www.metoffice.gov.uk/hadobs/hadcrut5/data/current/download.html\n",
    "\n",
    "- https://www.metoffice.gov.uk/hadobs/hadcrut5/data/current/analysis/HadCRUT.5.0.1.0.analysis.anomalies.ensemble_mean.nc\n",
    "- https://www.metoffice.gov.uk/hadobs/hadcrut5/data/current/analysis/diagnostics/HadCRUT.5.0.1.0.analysis.summary_series.global.annual.nc\n",
    "\n",
    "Graphiques \"en bandes\" d'après #ShowYourStripes d'Ed Hawkins (University of Reading) : https://showyourstripes.info"
   ]
  },
  {
   "cell_type": "code",
   "execution_count": null,
   "metadata": {},
   "outputs": [],
   "source": [
    "import numpy as np\n",
    "\n",
    "import matplotlib.pyplot as plt\n",
    "from matplotlib.patches import Rectangle\n",
    "from matplotlib.collections import PatchCollection\n",
    "from matplotlib.colors import ListedColormap\n",
    "from mpl_toolkits.axes_grid1 import AxesGrid\n",
    "from matplotlib import animation\n",
    "\n",
    "import pandas as pd\n",
    "import xarray as xr\n",
    "\n",
    "from cartopy import config\n",
    "import cartopy.feature as cfeature\n",
    "import cartopy.crs as ccrs\n",
    "from cartopy.mpl.geoaxes import GeoAxes\n",
    "\n",
    "from tqdm import tqdm"
   ]
  },
  {
   "cell_type": "raw",
   "metadata": {},
   "source": [
    "Ouverture du fichier de l'anomalie globale annuelle"
   ]
  },
  {
   "cell_type": "code",
   "execution_count": null,
   "metadata": {
    "scrolled": false
   },
   "outputs": [],
   "source": [
    "t    = xr.open_dataset(\"./data/HadCRUT.5.0.1.0.analysis.summary_series.global.annual.nc\")\n",
    "print(t)"
   ]
  },
  {
   "cell_type": "raw",
   "metadata": {},
   "source": [
    "Graphiques \"en bandes\" d'après #ShowYourStripes d'Ed Hawkins : https://showyourstripes.info"
   ]
  },
  {
   "cell_type": "code",
   "execution_count": null,
   "metadata": {
    "scrolled": false
   },
   "outputs": [],
   "source": [
    "# Reference period for the center of the color scale\n",
    "FIRST_REFERENCE = 1971\n",
    "LAST_REFERENCE = 2000\n",
    "LIM = 0.7 # degrees\n",
    "\n",
    "FIRST = '1850'\n",
    "LAST = '2022'  # inclusive\n",
    "\n",
    "# Reference period for the center of the color scale\n",
    "FIRST_REFERENCE = '1971'\n",
    "LAST_REFERENCE = '2000'\n",
    "\n",
    "t_anom = t.sel(time=slice(FIRST, LAST))\n",
    "t_ref = t_anom.sel(time=slice(FIRST_REFERENCE, LAST_REFERENCE)).mean('time')\n",
    "\n",
    "anomaly=t_anom['tas_mean']\n",
    "reference=t_ref['tas_mean']\n",
    "\n",
    "#print(reference)\n",
    "\n",
    "# the 8 more saturated colors from the 9 blues / 9 reds\n",
    "cmap = ListedColormap([\n",
    "    '#08306b', '#08519c', '#2171b5', '#4292c6',\n",
    "    '#6baed6', '#9ecae1', '#c6dbef', '#deebf7',\n",
    "    '#fee0d2', '#fcbba1', '#fc9272', '#fb6a4a',\n",
    "    '#ef3b2c', '#cb181d', '#a50f15', '#67000d',\n",
    "])\n",
    "\n",
    "fig = plt.figure(figsize=(15, 5))\n",
    "fig.suptitle('HadCRUT 5 Global Temperature anomaly from '+FIRST+' to '+LAST+' (relative to '+FIRST_REFERENCE+'-'+LAST_REFERENCE+')'\n",
    "             ,fontsize=12)\n",
    "\n",
    "#ax = fig.add_axes([0, 0, 1, 1])\n",
    "ax=fig.add_subplot(111)\n",
    "\n",
    "# create a collection with a rectangle for each year\n",
    "col = PatchCollection([Rectangle((y, 0), 1, 1) for y in range(int(FIRST), int(LAST) + 1) ])\n",
    "\n",
    "# set data, colormap and color limits\n",
    "col.set_array(anomaly)\n",
    "col.set_cmap(cmap)\n",
    "col.set_clim(reference - LIM, reference + LIM)\n",
    "ax.add_collection(col)\n",
    "ax.set_ylim(0, 1)\n",
    "ax.set_xlim(int(FIRST), int(LAST) + 1)\n",
    "\n",
    "#ax.set_axis_off()\n",
    "ax.get_yaxis().set_visible(False)\n",
    "plt.colorbar(col, orientation=\"horizontal\", aspect=65, shrink=0.5, pad=0.1)\n",
    "\n",
    "fig.savefig('./figs/HadCRUT5_Global_Tanom_warming-stripes.png')"
   ]
  },
  {
   "cell_type": "raw",
   "metadata": {},
   "source": [
    "Ouverture et traitement des données en points de grille HadCRUT5. On ne calcule pas la moyenne annuelle si des valeurs sont manquantes."
   ]
  },
  {
   "cell_type": "code",
   "execution_count": null,
   "metadata": {
    "scrolled": false
   },
   "outputs": [],
   "source": [
    "t    = xr.open_dataset(\"./data/HadCRUT.5.0.1.0.analysis.anomalies.ensemble_mean.nc\")\n",
    "print(t)\n",
    "tyear=t.sel(time=slice('1850','2022')).groupby('time.year').mean('time', skipna=True)\n",
    "\n",
    "years=tyear.year.values\n",
    "lat=tyear.latitude.values\n",
    "\n",
    "lon=tyear.longitude.values\n",
    "print(years)\n",
    "\n",
    "data=tyear['tas_mean']\n",
    "print(data.shape)"
   ]
  },
  {
   "cell_type": "raw",
   "metadata": {},
   "source": [
    "Fond de carte"
   ]
  },
  {
   "cell_type": "code",
   "execution_count": null,
   "metadata": {
    "scrolled": true
   },
   "outputs": [],
   "source": [
    "def plot_background(ax):\n",
    "    ax.coastlines()\n",
    "    ax.gridlines(crs=ccrs.PlateCarree(), linewidth=0.5, color='gray', alpha=0.5, linestyle='-')\n",
    "    return ax"
   ]
  },
  {
   "cell_type": "raw",
   "metadata": {},
   "source": [
    "Tracé des vignettes des anomalies annuelles sur la période 1850-2019."
   ]
  },
  {
   "cell_type": "code",
   "execution_count": null,
   "metadata": {
    "scrolled": false
   },
   "outputs": [],
   "source": [
    "#plt.style.use('dark_background')\n",
    "\n",
    "proj=ccrs.EqualEarth()\n",
    "\n",
    "levels=np.arange(-1,1.1, 0.1)\n",
    "\n",
    "axes_class = (GeoAxes, dict(map_projection=proj))\n",
    "fig = plt.figure(figsize=(15,15))\n",
    "fig.suptitle('HadCRUT 5.0 Temperature anomaly (°C relative to 1961-1990)', fontsize=16)\n",
    "\n",
    "axgr = AxesGrid(fig, 111, axes_class=axes_class,\n",
    "       nrows_ncols=(17, 10),\n",
    "       axes_pad=0.2,\n",
    "       cbar_location='bottom',\n",
    "       cbar_mode='single', # None/single/each\n",
    "       cbar_pad=0.2,\n",
    "       cbar_size='3%',\n",
    "       label_mode='')  # note the empty label_mode\n",
    "\n",
    "start,stop = 0,len(years)-1\n",
    "\n",
    "for i, ax in enumerate(axgr[:stop-start]):\n",
    "    plot_background(ax)\n",
    "    ax.set_title(str(years[i]), fontsize=10)\n",
    "    p1 = ax.contourf(lon, lat, data[i,:,:], levels=levels, transform=ccrs.PlateCarree(), cmap='coolwarm', extend='both')\n",
    "    #p2 = ax.contour(lon, lat, data[i,:,:], colors='black', levels=levels, linewidths=0.2, transform=ccrs.PlateCarree())\n",
    "    axgr.cbar_axes[i].colorbar(p1)\n",
    "\n",
    "plt.show()\n",
    "\n",
    "figname='./figs/HadCRUT5_Tanom'\n",
    "fig.savefig(figname+'.png',bbox_inches='tight')"
   ]
  },
  {
   "cell_type": "raw",
   "metadata": {},
   "source": [
    "Tracé de la carte de l'anomalie de température pour une année spécifique."
   ]
  },
  {
   "cell_type": "code",
   "execution_count": null,
   "metadata": {
    "scrolled": false
   },
   "outputs": [],
   "source": [
    "iyear=int(input(\"Entrer l'année souhaitée : \"))\n",
    "idx = list(years).index(iyear)\n",
    "\n",
    "proj=ccrs.EqualEarth()\n",
    "\n",
    "levels=np.arange(-2,2.1, 0.1)\n",
    "\n",
    "fig = plt.figure(figsize=(15,10))\n",
    "fig.suptitle('HadCRUT 5.0 Temperature anomaly (°C relative to 1961-1990)', fontsize=16)\n",
    "ax = fig.add_subplot(1, 1, 1, projection=proj)\n",
    "plot_background(ax)\n",
    "ax.set_title(str(iyear), fontsize=14)\n",
    "p1 = ax.contourf(lon, lat, data[idx,:,:], levels=levels, transform=ccrs.PlateCarree(), cmap='coolwarm', extend='both')\n",
    "#p2 = ax.contour(lon, lat, data[idx,:,:], colors='black', levels=levels, linewidths=0.2, transform=ccrs.PlateCarree())\n",
    "cb = fig.colorbar(p1, orientation='horizontal', aspect=65, shrink=0.5, pad=0.05)\n",
    "cb.set_label('°C', size='small')   \n",
    "plt.show()\n",
    "\n",
    "figname='./figs/HadCRUT5_Tanom_'+str(iyear)\n",
    "fig.savefig(figname+'.png',bbox_inches='tight')"
   ]
  },
  {
   "cell_type": "raw",
   "metadata": {},
   "source": [
    "Création des cartes individuelles de l'anomalie de température pour toutes les années (dans le dossier anim)"
   ]
  },
  {
   "cell_type": "code",
   "execution_count": null,
   "metadata": {
    "scrolled": false
   },
   "outputs": [],
   "source": [
    "for i in tqdm(range(len(years))): \n",
    "    fig = plt.figure(figsize=(15,10))\n",
    "    fig.suptitle('HadCRUT 5.0 Temperature anomaly (°C relative to 1961-1990)', fontsize=16)\n",
    "    ax = fig.add_subplot(1, 1, 1, projection=proj)\n",
    "    plot_background(ax)\n",
    "    ax.set_global()\n",
    "    ax.set_title(str(years[i]), fontsize=14)\n",
    "    p1 = ax.contourf(lon, lat, data[i,:,:], levels=levels, transform=ccrs.PlateCarree(),\n",
    "                     cmap='coolwarm', extend='both')\n",
    "    #p2 = ax.contour(lon, lat, data[i,:,:], colors='black', levels=levels, linewidths=0.2, transform=ccrs.PlateCarree())\n",
    "    cb = fig.colorbar(p1, orientation='horizontal', aspect=65, shrink=0.5, pad=0.05)\n",
    "    cb.set_label('°C', size='small')   \n",
    "    figname='./anim/HadCRUT5_Tanom_'+str(years[i])\n",
    "    fig.savefig(figname+'.png',bbox_inches='tight')\n",
    "    plt.close()"
   ]
  },
  {
   "cell_type": "code",
   "execution_count": null,
   "metadata": {},
   "outputs": [],
   "source": [
    "def make_animation(gif_filepath):\n",
    "    from PIL import Image\n",
    "    import os\n",
    "    from IPython.display import Image as IPImage\n",
    "    from IPython.display import display\n",
    "    import time\n",
    "    \n",
    "    image_folder = './anim/' # répertoire contenant les fichiers PNG\n",
    "    output_file = gif_filepath # nom du fichier de sortie\n",
    "    animation_speed = 0.9 # vitesse de l'animation en secondes\n",
    "    \n",
    "    # Liste tous les fichiers PNG dans le répertoire image_folder\n",
    "    files = sorted(os.listdir(image_folder))\n",
    "    image_files = [f for f in files if f.endswith('.png')]\n",
    "    \n",
    "    # Ouvre chaque fichier PNG et ajoute l'image à une liste\n",
    "    images = []\n",
    "    for filename in image_files:\n",
    "        img = Image.open(os.path.join(image_folder, filename))\n",
    "        images.append(img)\n",
    "    \n",
    "    # Crée l'animation GIF\n",
    "    images[0].save(output_file, save_all=True, append_images=images[1:], duration=int(animation_speed*1000), loop=0)\n",
    "    # Affiche l'animation GIF dans Jupyter\n",
    "    with open(output_file,'rb') as f:\n",
    "        display(IPImage(data=f.read(), format='png'))\n",
    "    # Efface les fichiers PNG\n",
    "    for filename in image_files:\n",
    "        os.remove(image_folder+filename)"
   ]
  },
  {
   "cell_type": "code",
   "execution_count": null,
   "metadata": {},
   "outputs": [],
   "source": [
    "gif_filepath = './anim/HadCRUT5_Tanom.gif'\n",
    "make_animation(gif_filepath)"
   ]
  },
  {
   "cell_type": "code",
   "execution_count": null,
   "metadata": {},
   "outputs": [],
   "source": []
  }
 ],
 "metadata": {
  "kernelspec": {
   "display_name": "Python 3",
   "language": "python",
   "name": "python3"
  },
  "language_info": {
   "codemirror_mode": {
    "name": "ipython",
    "version": 3
   },
   "file_extension": ".py",
   "mimetype": "text/x-python",
   "name": "python",
   "nbconvert_exporter": "python",
   "pygments_lexer": "ipython3",
   "version": "3.7.11"
  }
 },
 "nbformat": 4,
 "nbformat_minor": 1
}
