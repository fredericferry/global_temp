{
 "cells": [
  {
   "cell_type": "markdown",
   "metadata": {},
   "source": [
    "# Anomalie globale de température (NASA GISTEMP 1880-2022)\n",
    "\n",
    "**Auteur : FERRY Frédéric (ENM/C3M) - septembre 2023**\n",
    "\n",
    "Données : https://data.giss.nasa.gov/gistemp/\n",
    "\n",
    "- https://data.giss.nasa.gov/gistemp/tabledata_v4/GLB.Ts+dSST.csv\n",
    "- https://data.giss.nasa.gov/pub/gistemp/gistemp1200_GHCNv4_ERSSTv5.nc.gz"
   ]
  },
  {
   "cell_type": "code",
   "execution_count": null,
   "metadata": {},
   "outputs": [],
   "source": [
    "import os\n",
    "\n",
    "import numpy as np\n",
    "import xarray as xr\n",
    "\n",
    "import matplotlib.pyplot as plt\n",
    "from matplotlib import colors\n",
    "\n",
    "import pandas as pd\n",
    "from pandas import Series\n",
    "from pandas.plotting import register_matplotlib_converters\n",
    "register_matplotlib_converters()\n",
    "\n",
    "from cartopy import config\n",
    "import cartopy.feature as cfeature\n",
    "import cartopy.crs as ccrs\n",
    "from cartopy.mpl.geoaxes import GeoAxes\n",
    "from mpl_toolkits.axes_grid1 import AxesGrid\n",
    "\n",
    "from tqdm import tqdm"
   ]
  },
  {
   "cell_type": "raw",
   "metadata": {},
   "source": [
    "Ouverture du fichier de l'anomalie globale de température (GISTEMP)."
   ]
  },
  {
   "cell_type": "code",
   "execution_count": null,
   "metadata": {
    "scrolled": false
   },
   "outputs": [],
   "source": [
    "iyear=pd.read_csv('./data/GLB.Ts+dSST.csv', sep=',',header=1, usecols=[0], skipfooter=1, engine='python')\n",
    "tg=pd.read_csv('./data/GLB.Ts+dSST.csv', sep=',',header=1, usecols=[1,2,3,4,5,6,7,8,9,10,11,12],\n",
    "               skipfooter=1, engine='python')\n",
    "print(iyear)\n",
    "print(tg)\n",
    "\n",
    "months=['January','February','March','April','May','June','July',\n",
    "       'August','September','October','November','December']\n",
    "\n",
    "years=np.arange(1880,2023)\n",
    "print(years)"
   ]
  },
  {
   "cell_type": "raw",
   "metadata": {},
   "source": [
    "Graphe de l'évolution de l'anomalie globale mensuelle de température depuis 1880."
   ]
  },
  {
   "cell_type": "code",
   "execution_count": null,
   "metadata": {
    "scrolled": false
   },
   "outputs": [],
   "source": [
    "print(tg.shape)\n",
    "tg2=np.array(tg).flatten()\n",
    "print(tg2.shape)\n",
    "dates = pd.date_range('1880-01', '2023-01', freq='M')\n",
    "print(dates)\n",
    "tg2 = Series(tg2, index=dates)\n",
    "\n",
    "fig=plt.figure(figsize=(15, 10))\n",
    "fig.suptitle('Global monthly temperature anomalies relative to 1951-1980', fontsize=16)\n",
    "plt.title('Data : https://data.giss.nasa.gov/gistemp/tabledata_v4/GLB.Ts+dSST.csv' ,\n",
    "          fontsize=12, color='grey')\n",
    "plt.xlabel('Year')\n",
    "plt.ylabel('Temperature anomaly (°C)')\n",
    "plt.axhline(0, linewidth=1, color='k')\n",
    "ax = tg2.plot(color='blue', linewidth=0.5, alpha=1)\n",
    "plt.show()\n",
    "figname='./figs/GISTEMP_Tanom_monthly'\n",
    "fig.savefig(figname+'.png',bbox_inches='tight')"
   ]
  },
  {
   "cell_type": "raw",
   "metadata": {},
   "source": [
    "Autre visualisation des anomalies mensuelles. cf. http://www.columbia.edu/~mhs119/Temperature/T_moreFigs/."
   ]
  },
  {
   "cell_type": "code",
   "execution_count": null,
   "metadata": {
    "scrolled": false
   },
   "outputs": [],
   "source": [
    "bounds = [-0.8,-0.6,-0.4,-0.2,-0.05,0.05,0.2,0.4,0.6,0.8,1,1.2,1.4]\n",
    "color =[\"darkblue\",\"blue\",\"cyan\",\"lightgreen\",\"white\",\"yellow\",\"gold\", \"orange\", \n",
    "         \"red\", \"brown\", \"black\",\"pink\"]\n",
    "cmap = colors.ListedColormap(color)\n",
    "norm = colors.BoundaryNorm(bounds, cmap.N)\n",
    "\n",
    "fig=plt.figure(figsize=(30, 4))\n",
    "fig.suptitle('Global annual temperature anomalies relative to 1951-1980', fontsize=24)\n",
    "ax = fig.add_subplot(111)\n",
    "im=ax.imshow(tg.T, cmap=cmap, norm=norm)\n",
    "cb=plt.colorbar(im, orientation=\"horizontal\",shrink=0.75,ticks=bounds)\n",
    "cb.set_label('°C')\n",
    "mons=['Jan','Feb','Mar','Apr', 'May', 'Jun', 'Jul', 'Aug', 'Sep', 'Oct', 'Nov', 'Dec']\n",
    "ax.set_yticks(np.arange(0,12,3))\n",
    "ax.set_yticklabels(mons[::3]) #add month labels to the yaxis\n",
    "ax.set_xticks(np.arange(0,len(years),10))\n",
    "ax.set_xticklabels(years[::10]) #add year labels to the xaxis\n",
    "\n",
    "xcoords = np.arange(0,len(years),10)\n",
    "for xc in xcoords:\n",
    "    plt.axvline(x=xc,linewidth=1, linestyle='--', color='grey')\n",
    "\n",
    "plt.show()\n",
    "\n",
    "figname='./figs/GISTEMP_Tanom_monthly2'\n",
    "fig.savefig(figname+'.png',bbox_inches='tight')"
   ]
  },
  {
   "cell_type": "raw",
   "metadata": {},
   "source": [
    "Choix d'un mois."
   ]
  },
  {
   "cell_type": "code",
   "execution_count": null,
   "metadata": {
    "scrolled": false
   },
   "outputs": [],
   "source": [
    "print(tg2.shape)\n",
    "imonth=int(input(\"Entrer le numéro du mois souhaité (1-12) : \"))\n",
    "month_data=tg2[imonth-1::12]\n",
    "print(month_data.shape)"
   ]
  },
  {
   "cell_type": "raw",
   "metadata": {},
   "source": [
    "Anomalie de température pour le mois choisi."
   ]
  },
  {
   "cell_type": "code",
   "execution_count": null,
   "metadata": {
    "scrolled": false
   },
   "outputs": [],
   "source": [
    "fig=plt.figure(figsize=(15, 10))\n",
    "fig.suptitle('Global '+months[imonth-1]+' temperature anomalies relative to 1951-1980', fontsize=16)\n",
    "plt.title('Data : https://data.giss.nasa.gov/gistemp/tabledata_v4/GLB.Ts+dSST.csv' ,\n",
    "          fontsize=12, color='grey')\n",
    "plt.xlabel('Year')\n",
    "plt.ylabel('Temperature anomaly (°C)')\n",
    "plt.axhline(0, color='k')\n",
    "plt.xlim(years[0],years[-1])\n",
    "colormat=np.where(month_data>0, 'red','blue')\n",
    "plt.bar(years,month_data, color=colormat)\n",
    "xcoords = np.arange(1850,2030,10)\n",
    "for xc in xcoords:\n",
    "    plt.axvline(x=xc,linewidth=1, linestyle='--', color='grey')\n",
    "plt.show()\n",
    "figname='./figs/GISTEMP_Tanom_'+str(imonth)\n",
    "fig.savefig(figname+'.png',bbox_inches='tight')"
   ]
  },
  {
   "cell_type": "raw",
   "metadata": {},
   "source": [
    "Classement."
   ]
  },
  {
   "cell_type": "code",
   "execution_count": null,
   "metadata": {
    "scrolled": false
   },
   "outputs": [],
   "source": [
    "classement=np.array(np.argsort(month_data))[::-1]\n",
    "print('Classement '+months[imonth-1]+ ' du plus chaud au plus froid : ',years[classement])"
   ]
  },
  {
   "cell_type": "raw",
   "metadata": {},
   "source": [
    "Création des données en moyenne annuelle."
   ]
  },
  {
   "cell_type": "code",
   "execution_count": null,
   "metadata": {
    "scrolled": false
   },
   "outputs": [],
   "source": [
    "tg=tg.mean(axis = 1)\n",
    "print(tg)"
   ]
  },
  {
   "cell_type": "raw",
   "metadata": {},
   "source": [
    "Tracé de l'évolution de l'anomalie globale annuelle de température."
   ]
  },
  {
   "cell_type": "code",
   "execution_count": null,
   "metadata": {
    "scrolled": false
   },
   "outputs": [],
   "source": [
    "fig=plt.figure(figsize=(15, 10))\n",
    "fig.suptitle('Global annual temperature anomalies relative to 1951-1980', fontsize=16)\n",
    "plt.title('Data : https://data.giss.nasa.gov/gistemp/tabledata_v4/GLB.Ts+dSST.csv' ,\n",
    "          fontsize=12, color='grey')\n",
    "plt.xlabel('Year')\n",
    "plt.ylabel('Temperature anomaly (°C)')\n",
    "plt.axhline(0, color='k', linewidth=1)\n",
    "plt.xlim(years[0],years[-1])\n",
    "xcoords = np.arange(1880,2030,10)\n",
    "for xc in xcoords:\n",
    "    plt.axvline(x=xc,linewidth=1, linestyle='--', color='grey')\n",
    "colormat=np.where(tg>0, 'red','blue')\n",
    "plt.bar(years, tg, color=colormat)\n",
    "\n",
    "plt.show()\n",
    "figname='./figs/GISTEMP_Tglob'\n",
    "fig.savefig(figname+'.png',bbox_inches='tight')"
   ]
  },
  {
   "cell_type": "raw",
   "metadata": {},
   "source": [
    "Ouverture et traitement des données en points de grille GISTEMP. On ne calcule pas la moyenne annuelle si des valeurs sont manquantes."
   ]
  },
  {
   "cell_type": "code",
   "execution_count": null,
   "metadata": {
    "scrolled": false
   },
   "outputs": [],
   "source": [
    "t    = xr.open_dataset(\"./data/gistemp1200_GHCNv4_ERSSTv5.nc\")\n",
    "print(t)\n",
    "tyear=t.sel(time=slice('1880','2022')).groupby('time.year').mean('time', skipna=True)\n",
    "print(tyear)\n",
    "\n",
    "years=tyear.year.values\n",
    "lat=tyear.lat.values\n",
    "lon=tyear.lon.values\n",
    "print(years)\n",
    "\n",
    "data=tyear['tempanomaly']\n",
    "print(data.shape)"
   ]
  },
  {
   "cell_type": "raw",
   "metadata": {},
   "source": [
    "Tracé des vignettes des anomalies annuelles sur la période 1880-2019."
   ]
  },
  {
   "cell_type": "code",
   "execution_count": null,
   "metadata": {
    "scrolled": false
   },
   "outputs": [],
   "source": [
    "def plot_background(ax):\n",
    "    ax.coastlines()\n",
    "    ax.gridlines(crs=ccrs.PlateCarree(), linewidth=0.5, color='gray', alpha=0.5, linestyle='-')\n",
    "    return ax\n",
    "\n",
    "proj=ccrs.EqualEarth()\n",
    "\n",
    "levels=np.arange(-3,3.5, 0.5)\n",
    "\n",
    "axes_class = (GeoAxes, dict(map_projection=proj))\n",
    "fig = plt.figure(figsize=(15,15))\n",
    "fig.suptitle('NASA GISTEMP Temperature anomaly (°C relative to 1951-1980)', fontsize=16)\n",
    "\n",
    "axgr = AxesGrid(fig, 111, axes_class=axes_class,\n",
    "       nrows_ncols=(14, 10),\n",
    "       axes_pad=0.2,\n",
    "       cbar_location='bottom',\n",
    "       cbar_mode='single', # None/single/each\n",
    "       cbar_pad=0.2,\n",
    "       cbar_size='3%',\n",
    "       label_mode='')  # note the empty label_mode\n",
    "\n",
    "start,stop = 0,len(years)-1\n",
    "\n",
    "for i, ax in enumerate(axgr[:stop-start]):\n",
    "    plot_background(ax)\n",
    "    ax.set_title(str(years[i]), fontsize=10)\n",
    "    p1 = ax.contourf(lon, lat, data[i,:,:], levels=levels, transform=ccrs.PlateCarree(), cmap='coolwarm', extend='both')\n",
    "    #p2 = ax.contour(lon, lat, data[i,:,:], colors='black', levels=levels, linewidths=0.2, transform=ccrs.PlateCarree())\n",
    "    axgr.cbar_axes[i].colorbar(p1)\n",
    "\n",
    "plt.show()\n",
    "\n",
    "figname='./figs/GISTEMP_Tanom'\n",
    "fig.savefig(figname+'.png',bbox_inches='tight')"
   ]
  },
  {
   "cell_type": "raw",
   "metadata": {},
   "source": [
    "Tracé de la carte de l'anomalie de température pour une année spécifique."
   ]
  },
  {
   "cell_type": "code",
   "execution_count": null,
   "metadata": {
    "scrolled": false
   },
   "outputs": [],
   "source": [
    "iyear=int(input(\"Entrer l'année souhaitée : \"))\n",
    "idx = list(years).index(iyear)\n",
    "\n",
    "proj=ccrs.EqualEarth()\n",
    "\n",
    "levels=np.arange(-3,3.5, 0.5)\n",
    "\n",
    "fig = plt.figure(figsize=(15,10))\n",
    "fig.suptitle('NASA GISTEMP Temperature anomaly (°C relative to 1951-1980)', fontsize=16)\n",
    "ax = fig.add_subplot(1, 1, 1, projection=proj)\n",
    "plot_background(ax)\n",
    "ax.set_title(str(iyear), fontsize=14)\n",
    "p1 = ax.contourf(lon, lat, data[idx,:,:], levels=levels, transform=ccrs.PlateCarree(), cmap='coolwarm', extend='both')\n",
    "#p2 = ax.contour(lon, lat, data[idx,:,:], colors='black', levels=levels, linewidths=0.2, transform=ccrs.PlateCarree())\n",
    "cb = fig.colorbar(p1, orientation='horizontal', aspect=65, shrink=0.5, pad=0.05)\n",
    "cb.set_label('°C', size='small')   \n",
    "plt.show()\n",
    "\n",
    "figname='./figs/GISTEMP_Tanom_'+str(iyear)\n",
    "fig.savefig(figname+'.png',bbox_inches='tight')"
   ]
  },
  {
   "cell_type": "raw",
   "metadata": {},
   "source": [
    "Création des cartes individuelles de l'anomalie de température pour toutes les années (dans le dossier anim)"
   ]
  },
  {
   "cell_type": "code",
   "execution_count": null,
   "metadata": {},
   "outputs": [],
   "source": [
    "for i in tqdm(range(len(years))): \n",
    "    fig = plt.figure(figsize=(15,10))\n",
    "    fig.suptitle('NASA GISTEMP Temperature anomaly (°C relative to 1951-1980)', fontsize=16)\n",
    "    ax = fig.add_subplot(1, 1, 1, projection=proj)\n",
    "    plot_background(ax)\n",
    "    ax.set_global()\n",
    "    ax.set_title(str(years[i]), fontsize=14)\n",
    "    p1 = ax.contourf(lon, lat, data[i,:,:], levels=levels, transform=ccrs.PlateCarree(),\n",
    "                     cmap='coolwarm', extend='both')\n",
    "    #p2 = ax.contour(lon, lat, data[i,:,:], colors='black', levels=levels, linewidths=0.2, transform=ccrs.PlateCarree())\n",
    "    cb = fig.colorbar(p1, orientation='horizontal', aspect=65, shrink=0.5, pad=0.05)\n",
    "    cb.set_label('°C', size='small')   \n",
    "    figname='./anim/GISTEMP_Tanom_'+str(years[i])\n",
    "    fig.savefig(figname+'.png',bbox_inches='tight')\n",
    "    plt.close()"
   ]
  },
  {
   "cell_type": "code",
   "execution_count": null,
   "metadata": {},
   "outputs": [],
   "source": [
    "def make_animation(gif_filepath):\n",
    "    from PIL import Image\n",
    "    import os\n",
    "    from IPython.display import Image as IPImage\n",
    "    from IPython.display import display\n",
    "    import time\n",
    "    \n",
    "    image_folder = './anim/' # répertoire contenant les fichiers PNG\n",
    "    output_file = gif_filepath # nom du fichier de sortie\n",
    "    animation_speed = 0.9 # vitesse de l'animation en secondes\n",
    "    \n",
    "    # Liste tous les fichiers PNG dans le répertoire image_folder\n",
    "    files = sorted(os.listdir(image_folder))\n",
    "    image_files = [f for f in files if f.endswith('.png')]\n",
    "    \n",
    "    # Ouvre chaque fichier PNG et ajoute l'image à une liste\n",
    "    images = []\n",
    "    for filename in image_files:\n",
    "        img = Image.open(os.path.join(image_folder, filename))\n",
    "        images.append(img)\n",
    "    \n",
    "    # Crée l'animation GIF\n",
    "    images[0].save(output_file, save_all=True, append_images=images[1:], duration=int(animation_speed*1000), loop=0)\n",
    "    # Affiche l'animation GIF dans Jupyter\n",
    "    with open(output_file,'rb') as f:\n",
    "        display(IPImage(data=f.read(), format='png'))\n",
    "    # Efface les fichiers PNG\n",
    "    for filename in image_files:\n",
    "        os.remove(image_folder+filename)"
   ]
  },
  {
   "cell_type": "code",
   "execution_count": null,
   "metadata": {},
   "outputs": [],
   "source": [
    "gif_filepath = './anim/GISTEMP_Tanom.gif'\n",
    "make_animation(gif_filepath)"
   ]
  },
  {
   "cell_type": "code",
   "execution_count": null,
   "metadata": {},
   "outputs": [],
   "source": []
  }
 ],
 "metadata": {
  "kernelspec": {
   "display_name": "Python 3",
   "language": "python",
   "name": "python3"
  },
  "language_info": {
   "codemirror_mode": {
    "name": "ipython",
    "version": 3
   },
   "file_extension": ".py",
   "mimetype": "text/x-python",
   "name": "python",
   "nbconvert_exporter": "python",
   "pygments_lexer": "ipython3",
   "version": "3.7.11"
  }
 },
 "nbformat": 4,
 "nbformat_minor": 1
}
